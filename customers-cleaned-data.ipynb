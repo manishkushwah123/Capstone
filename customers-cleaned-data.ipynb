{
 "cells": [
  {
   "cell_type": "code",
   "execution_count": 56,
   "id": "9287bc67-8a7e-4c20-891d-a1e97cd09695",
   "metadata": {
    "tags": []
   },
   "outputs": [
    {
     "name": "stdout",
     "output_type": "stream",
     "text": [
      "+-----------+--------------------+--------------------+----------+--------------+\n",
      "|Customer_id|           Full_Name|      Customer_Email|       dob|Customer_Phone|\n",
      "+-----------+--------------------+--------------------+----------+--------------+\n",
      "| V0H084B3FA|         Mahika Gill|mahika.gill@gmail...| 6/23/1993|     785877743|\n",
      "| 7SI1YKSDMB|        Elakshi Gour|elakshi.gour@outl...| 6/14/1981|    9638371516|\n",
      "| H0L4L7VHXT|    Tanya Srinivasan|tanyasrinivasan@y...| 3/22/2003|     559420656|\n",
      "| 6I324KGK08|        Kashvi Saraf|kashvisaraf@yahoo...| 6/27/2001|    4985572504|\n",
      "| WKJ0VXQFIY|            Piya Ram| piyaram@hotmail.com| 3/31/1994|    5549849574|\n",
      "| HT4P3N5R38|    Aniruddh Kothari|aniruddhkothari@h...| 4/20/1994|    8609260186|\n",
      "| Y4EHCD6U3G|           Riya Gala|riya.gala@hotmail...| 8/10/1989|    6947567136|\n",
      "| KTYHYNJG3Q|    Tarini Sabharwal|tarini.sabharwal@...| 12/3/1973|    7701533431|\n",
      "| 2N2119NGLF|     Shanaya Sampath|shanaya_sampath@g...|10/29/1988|    4587205438|\n",
      "| CT2JZ4HB0I|       Hunar Ganesan|hunar_ganesan@gma...|11/15/1975|    2639082834|\n",
      "| HF5N5ZWXFL|         Anaya Raval|anaya.raval@gmail...|  2/8/1978|    1631824049|\n",
      "| 4WMWWD3L7C|          Hunar Bhat|hunar_bhat@outloo...| 1/17/1999|    4495192598|\n",
      "| RIPWSYBXN8|          Mehul Rege|mehul.rege@gmail.com| 2/25/1981|    9384883971|\n",
      "| 9GXGVJOUV1|     Shanaya Bhavsar|shanayabhavsar@gm...| 7/19/1997|    8437052858|\n",
      "| WOT5TC8J5V|        Renee Mander|reneemander@yahoo...| 6/13/2004|     958564312|\n",
      "| U38Z486TPA|        Faiyaz Anand|faiyaz.anand@hotm...| 2/21/1985|    2501299169|\n",
      "| PYTD6L08D9|     Lakshit Solanki|lakshitsolanki@ya...| 12/5/1971|    2320260635|\n",
      "| YDS5XC3E0C|      Mohanlal Goyal|mohanlalgoyal@hot...|10/23/1995|    1396783988|\n",
      "| AB4ANZ6G75|Vardaniya Contractor|vardaniya.contrac...| 7/27/1968|    1157033491|\n",
      "| AWVATWP59G|      Shayak Krishna|shayak_krishna@ya...| 7/11/1983|    1531277808|\n",
      "+-----------+--------------------+--------------------+----------+--------------+\n",
      "only showing top 20 rows\n",
      "\n"
     ]
    }
   ],
   "source": [
    "from pyspark.sql import SparkSession\n",
    "# Read data from a CSV file\n",
    "input_path = 'gs://capstone-g4/customers.csv'\n",
    "customers_df = spark.read.csv(input_path, header=True, inferSchema=True)\n",
    "\n",
    "# Show the first few rows of the DataFrame\n",
    "customers_df.show()\n"
   ]
  },
  {
   "cell_type": "code",
   "execution_count": 57,
   "id": "0adb9848-24fa-4704-be4a-eefcbabdba75",
   "metadata": {
    "tags": []
   },
   "outputs": [
    {
     "name": "stdout",
     "output_type": "stream",
     "text": [
      "root\n",
      " |-- Customer_id: string (nullable = true)\n",
      " |-- Full_Name: string (nullable = true)\n",
      " |-- Customer_Email: string (nullable = true)\n",
      " |-- dob: string (nullable = true)\n",
      " |-- Customer_Phone: long (nullable = true)\n",
      "\n"
     ]
    }
   ],
   "source": [
    "customers_df.printSchema()"
   ]
  },
  {
   "cell_type": "code",
   "execution_count": 58,
   "id": "18adb300-b127-4931-ae26-16108921c70e",
   "metadata": {
    "tags": []
   },
   "outputs": [],
   "source": [
    "dumb_saish = customers_df.withColumn('dob', to_date('dob', 'M/d/yyyy'))"
   ]
  },
  {
   "cell_type": "code",
   "execution_count": 59,
   "id": "9abf17ce-58c3-4d8b-8ac2-b1754ab46a87",
   "metadata": {
    "tags": []
   },
   "outputs": [
    {
     "name": "stdout",
     "output_type": "stream",
     "text": [
      "root\n",
      " |-- Customer_id: string (nullable = true)\n",
      " |-- Full_Name: string (nullable = true)\n",
      " |-- Customer_Email: string (nullable = true)\n",
      " |-- dob: date (nullable = true)\n",
      " |-- Customer_Phone: long (nullable = true)\n",
      "\n"
     ]
    }
   ],
   "source": [
    "dumb_saish.printSchema()"
   ]
  },
  {
   "cell_type": "code",
   "execution_count": 60,
   "id": "0d403e15-0568-4663-9b87-e8ab2795abfa",
   "metadata": {
    "tags": []
   },
   "outputs": [
    {
     "name": "stdout",
     "output_type": "stream",
     "text": [
      "+-----------+--------------------+--------------------+----------+--------------+\n",
      "|Customer_id|           Full_Name|      Customer_Email|       dob|Customer_Phone|\n",
      "+-----------+--------------------+--------------------+----------+--------------+\n",
      "| V0H084B3FA|         Mahika Gill|mahika.gill@gmail...|1993-06-23|     785877743|\n",
      "| 7SI1YKSDMB|        Elakshi Gour|elakshi.gour@outl...|1981-06-14|    9638371516|\n",
      "| H0L4L7VHXT|    Tanya Srinivasan|tanyasrinivasan@y...|2003-03-22|     559420656|\n",
      "| 6I324KGK08|        Kashvi Saraf|kashvisaraf@yahoo...|2001-06-27|    4985572504|\n",
      "| WKJ0VXQFIY|            Piya Ram| piyaram@hotmail.com|1994-03-31|    5549849574|\n",
      "| HT4P3N5R38|    Aniruddh Kothari|aniruddhkothari@h...|1994-04-20|    8609260186|\n",
      "| Y4EHCD6U3G|           Riya Gala|riya.gala@hotmail...|1989-08-10|    6947567136|\n",
      "| KTYHYNJG3Q|    Tarini Sabharwal|tarini.sabharwal@...|1973-12-03|    7701533431|\n",
      "| 2N2119NGLF|     Shanaya Sampath|shanaya_sampath@g...|1988-10-29|    4587205438|\n",
      "| CT2JZ4HB0I|       Hunar Ganesan|hunar_ganesan@gma...|1975-11-15|    2639082834|\n",
      "| HF5N5ZWXFL|         Anaya Raval|anaya.raval@gmail...|1978-02-08|    1631824049|\n",
      "| 4WMWWD3L7C|          Hunar Bhat|hunar_bhat@outloo...|1999-01-17|    4495192598|\n",
      "| RIPWSYBXN8|          Mehul Rege|mehul.rege@gmail.com|1981-02-25|    9384883971|\n",
      "| 9GXGVJOUV1|     Shanaya Bhavsar|shanayabhavsar@gm...|1997-07-19|    8437052858|\n",
      "| WOT5TC8J5V|        Renee Mander|reneemander@yahoo...|2004-06-13|     958564312|\n",
      "| U38Z486TPA|        Faiyaz Anand|faiyaz.anand@hotm...|1985-02-21|    2501299169|\n",
      "| PYTD6L08D9|     Lakshit Solanki|lakshitsolanki@ya...|1971-12-05|    2320260635|\n",
      "| YDS5XC3E0C|      Mohanlal Goyal|mohanlalgoyal@hot...|1995-10-23|    1396783988|\n",
      "| AB4ANZ6G75|Vardaniya Contractor|vardaniya.contrac...|1968-07-27|    1157033491|\n",
      "| AWVATWP59G|      Shayak Krishna|shayak_krishna@ya...|1983-07-11|    1531277808|\n",
      "+-----------+--------------------+--------------------+----------+--------------+\n",
      "only showing top 20 rows\n",
      "\n"
     ]
    }
   ],
   "source": [
    "dumb_saish.show()"
   ]
  },
  {
   "cell_type": "code",
   "execution_count": 61,
   "id": "9fb5481b-ce50-46c1-9831-2da4b2c29854",
   "metadata": {
    "tags": []
   },
   "outputs": [],
   "source": [
    "# Handle missing values\n",
    "cleaned_customer_data = dumb_saish.fillna({'Full_Name': 'Unknown', 'Customer_Email': 'Unknown','Customer_Phone': 0})"
   ]
  },
  {
   "cell_type": "code",
   "execution_count": 62,
   "id": "eba42fb0-270c-4186-975b-31ab7d9b6521",
   "metadata": {
    "tags": []
   },
   "outputs": [],
   "source": [
    "# Handle duplicates\n",
    "cleaned_customer_data = dumb_saish.dropDuplicates([\"Customer_id\"])"
   ]
  },
  {
   "cell_type": "code",
   "execution_count": 66,
   "id": "f1dcd164-2653-407d-93dc-66457c9e61e7",
   "metadata": {
    "tags": []
   },
   "outputs": [
    {
     "name": "stdout",
     "output_type": "stream",
     "text": [
      "+-----------+--------------------+--------------------+----------+--------------+\n",
      "|Customer_id|           Full_Name|      Customer_Email|       dob|Customer_Phone|\n",
      "+-----------+--------------------+--------------------+----------+--------------+\n",
      "| V0H084B3FA|         Mahika Gill|mahika.gill@gmail...|1993-06-23|          null|\n",
      "| 7SI1YKSDMB|        Elakshi Gour|elakshi.gour@outl...|1981-06-14|    9638371516|\n",
      "| H0L4L7VHXT|    Tanya Srinivasan|tanyasrinivasan@y...|2003-03-22|          null|\n",
      "| 6I324KGK08|        Kashvi Saraf|kashvisaraf@yahoo...|2001-06-27|    4985572504|\n",
      "| WKJ0VXQFIY|            Piya Ram| piyaram@hotmail.com|1994-03-31|    5549849574|\n",
      "| HT4P3N5R38|    Aniruddh Kothari|aniruddhkothari@h...|1994-04-20|    8609260186|\n",
      "| Y4EHCD6U3G|           Riya Gala|riya.gala@hotmail...|1989-08-10|    6947567136|\n",
      "| KTYHYNJG3Q|    Tarini Sabharwal|tarini.sabharwal@...|1973-12-03|    7701533431|\n",
      "| 2N2119NGLF|     Shanaya Sampath|shanaya_sampath@g...|1988-10-29|    4587205438|\n",
      "| CT2JZ4HB0I|       Hunar Ganesan|hunar_ganesan@gma...|1975-11-15|    2639082834|\n",
      "| HF5N5ZWXFL|         Anaya Raval|anaya.raval@gmail...|1978-02-08|    1631824049|\n",
      "| 4WMWWD3L7C|          Hunar Bhat|hunar_bhat@outloo...|1999-01-17|    4495192598|\n",
      "| RIPWSYBXN8|          Mehul Rege|mehul.rege@gmail.com|1981-02-25|    9384883971|\n",
      "| 9GXGVJOUV1|     Shanaya Bhavsar|shanayabhavsar@gm...|1997-07-19|    8437052858|\n",
      "| WOT5TC8J5V|        Renee Mander|reneemander@yahoo...|2004-06-13|          null|\n",
      "| U38Z486TPA|        Faiyaz Anand|faiyaz.anand@hotm...|1985-02-21|    2501299169|\n",
      "| PYTD6L08D9|     Lakshit Solanki|lakshitsolanki@ya...|1971-12-05|    2320260635|\n",
      "| YDS5XC3E0C|      Mohanlal Goyal|mohanlalgoyal@hot...|1995-10-23|    1396783988|\n",
      "| AB4ANZ6G75|Vardaniya Contractor|vardaniya.contrac...|1968-07-27|    1157033491|\n",
      "| AWVATWP59G|      Shayak Krishna|shayak_krishna@ya...|1983-07-11|    1531277808|\n",
      "+-----------+--------------------+--------------------+----------+--------------+\n",
      "only showing top 20 rows\n",
      "\n"
     ]
    }
   ],
   "source": [
    "# Replace invalid phone numbers with null values\n",
    "cleaned_customer_data = dumb_saish.withColumn('Customer_Phone', when(length(col('Customer_Phone')) == 10, col('Customer_Phone')).otherwise(None))\n",
    "cleaned_customer_data.show()"
   ]
  },
  {
   "cell_type": "code",
   "execution_count": 75,
   "id": "49f1ccca-69a3-4c18-ad49-dcc33a54a310",
   "metadata": {
    "tags": []
   },
   "outputs": [
    {
     "name": "stdout",
     "output_type": "stream",
     "text": [
      "+-----------+--------------------+--------------------+----------+--------------+\n",
      "|Customer_id|           Full_Name|      Customer_Email|       dob|Customer_Phone|\n",
      "+-----------+--------------------+--------------------+----------+--------------+\n",
      "| V0H084B3FA|         Mahika Gill|mahika.gill@gmail...|1993-06-23|          null|\n",
      "| 7SI1YKSDMB|        Elakshi Gour|elakshi.gour@outl...|1981-06-14|    9638371516|\n",
      "| H0L4L7VHXT|    Tanya Srinivasan|tanyasrinivasan@y...|2003-03-22|          null|\n",
      "| 6I324KGK08|        Kashvi Saraf|kashvisaraf@yahoo...|2001-06-27|    4985572504|\n",
      "| WKJ0VXQFIY|            Piya Ram| piyaram@hotmail.com|1994-03-31|    5549849574|\n",
      "| HT4P3N5R38|    Aniruddh Kothari|aniruddhkothari@h...|1994-04-20|    8609260186|\n",
      "| Y4EHCD6U3G|           Riya Gala|riya.gala@hotmail...|1989-08-10|    6947567136|\n",
      "| KTYHYNJG3Q|    Tarini Sabharwal|tarini.sabharwal@...|1973-12-03|    7701533431|\n",
      "| 2N2119NGLF|     Shanaya Sampath|shanaya_sampath@g...|1988-10-29|    4587205438|\n",
      "| CT2JZ4HB0I|       Hunar Ganesan|hunar_ganesan@gma...|1975-11-15|    2639082834|\n",
      "| HF5N5ZWXFL|         Anaya Raval|anaya.raval@gmail...|1978-02-08|    1631824049|\n",
      "| 4WMWWD3L7C|          Hunar Bhat|hunar_bhat@outloo...|1999-01-17|    4495192598|\n",
      "| RIPWSYBXN8|          Mehul Rege|mehul.rege@gmail.com|1981-02-25|    9384883971|\n",
      "| 9GXGVJOUV1|     Shanaya Bhavsar|shanayabhavsar@gm...|1997-07-19|    8437052858|\n",
      "| WOT5TC8J5V|        Renee Mander|reneemander@yahoo...|2004-06-13|          null|\n",
      "| U38Z486TPA|        Faiyaz Anand|faiyaz.anand@hotm...|1985-02-21|    2501299169|\n",
      "| PYTD6L08D9|     Lakshit Solanki|lakshitsolanki@ya...|1971-12-05|    2320260635|\n",
      "| YDS5XC3E0C|      Mohanlal Goyal|mohanlalgoyal@hot...|1995-10-23|    1396783988|\n",
      "| AB4ANZ6G75|Vardaniya Contractor|vardaniya.contrac...|1968-07-27|    1157033491|\n",
      "| AWVATWP59G|      Shayak Krishna|shayak_krishna@ya...|1983-07-11|    1531277808|\n",
      "+-----------+--------------------+--------------------+----------+--------------+\n",
      "only showing top 20 rows\n",
      "\n"
     ]
    }
   ],
   "source": [
    "cleaned_customer_data1 = cleaned_customer_data.withColumn('Full_Name', initcap('Full_Name'))\n",
    "cleaned_customer_data1.show()"
   ]
  },
  {
   "cell_type": "code",
   "execution_count": 76,
   "id": "67f18b27-8f46-4635-9b4c-2d287f39355c",
   "metadata": {
    "tags": []
   },
   "outputs": [],
   "source": [
    "cleaned_customer_data2 = cleaned_customer_data1.withColumn(\"email_check\", regexp_extract(col(\"Customer_Email\"), r'^\\S+@\\S+\\.\\S+', 0))\n"
   ]
  },
  {
   "cell_type": "code",
   "execution_count": 77,
   "id": "6cc09a7a-c311-498a-a443-b18506762fd6",
   "metadata": {
    "tags": []
   },
   "outputs": [],
   "source": [
    "cleaned_customer_data2 = cleaned_customer_data2.withColumn(\"Customer_Email\", when(col(\"email_check\") != \"\", col(\"Customer_Email\")).otherwise(None))\n"
   ]
  },
  {
   "cell_type": "code",
   "execution_count": 78,
   "id": "6c9b43d9-463e-47f0-a2f0-ecf8441a7496",
   "metadata": {
    "tags": []
   },
   "outputs": [
    {
     "name": "stdout",
     "output_type": "stream",
     "text": [
      "+-----------+--------------------+--------------------+----------+--------------+--------------------+\n",
      "|Customer_id|           Full_Name|      Customer_Email|       dob|Customer_Phone|         email_check|\n",
      "+-----------+--------------------+--------------------+----------+--------------+--------------------+\n",
      "| V0H084B3FA|         Mahika Gill|mahika.gill@gmail...|1993-06-23|          null|mahika.gill@gmail...|\n",
      "| 7SI1YKSDMB|        Elakshi Gour|elakshi.gour@outl...|1981-06-14|    9638371516|elakshi.gour@outl...|\n",
      "| H0L4L7VHXT|    Tanya Srinivasan|tanyasrinivasan@y...|2003-03-22|          null|tanyasrinivasan@y...|\n",
      "| 6I324KGK08|        Kashvi Saraf|kashvisaraf@yahoo...|2001-06-27|    4985572504|kashvisaraf@yahoo...|\n",
      "| WKJ0VXQFIY|            Piya Ram| piyaram@hotmail.com|1994-03-31|    5549849574| piyaram@hotmail.com|\n",
      "| HT4P3N5R38|    Aniruddh Kothari|aniruddhkothari@h...|1994-04-20|    8609260186|aniruddhkothari@h...|\n",
      "| Y4EHCD6U3G|           Riya Gala|riya.gala@hotmail...|1989-08-10|    6947567136|riya.gala@hotmail...|\n",
      "| KTYHYNJG3Q|    Tarini Sabharwal|tarini.sabharwal@...|1973-12-03|    7701533431|tarini.sabharwal@...|\n",
      "| 2N2119NGLF|     Shanaya Sampath|shanaya_sampath@g...|1988-10-29|    4587205438|shanaya_sampath@g...|\n",
      "| CT2JZ4HB0I|       Hunar Ganesan|hunar_ganesan@gma...|1975-11-15|    2639082834|hunar_ganesan@gma...|\n",
      "| HF5N5ZWXFL|         Anaya Raval|anaya.raval@gmail...|1978-02-08|    1631824049|anaya.raval@gmail...|\n",
      "| 4WMWWD3L7C|          Hunar Bhat|hunar_bhat@outloo...|1999-01-17|    4495192598|hunar_bhat@outloo...|\n",
      "| RIPWSYBXN8|          Mehul Rege|mehul.rege@gmail.com|1981-02-25|    9384883971|mehul.rege@gmail.com|\n",
      "| 9GXGVJOUV1|     Shanaya Bhavsar|shanayabhavsar@gm...|1997-07-19|    8437052858|shanayabhavsar@gm...|\n",
      "| WOT5TC8J5V|        Renee Mander|reneemander@yahoo...|2004-06-13|          null|reneemander@yahoo...|\n",
      "| U38Z486TPA|        Faiyaz Anand|faiyaz.anand@hotm...|1985-02-21|    2501299169|faiyaz.anand@hotm...|\n",
      "| PYTD6L08D9|     Lakshit Solanki|lakshitsolanki@ya...|1971-12-05|    2320260635|lakshitsolanki@ya...|\n",
      "| YDS5XC3E0C|      Mohanlal Goyal|mohanlalgoyal@hot...|1995-10-23|    1396783988|mohanlalgoyal@hot...|\n",
      "| AB4ANZ6G75|Vardaniya Contractor|vardaniya.contrac...|1968-07-27|    1157033491|vardaniya.contrac...|\n",
      "| AWVATWP59G|      Shayak Krishna|shayak_krishna@ya...|1983-07-11|    1531277808|shayak_krishna@ya...|\n",
      "+-----------+--------------------+--------------------+----------+--------------+--------------------+\n",
      "only showing top 20 rows\n",
      "\n"
     ]
    }
   ],
   "source": [
    "cleaned_customer_data2.show()"
   ]
  },
  {
   "cell_type": "code",
   "execution_count": 79,
   "id": "8a0e7329-25f1-4a54-922f-c12edb01c483",
   "metadata": {
    "tags": []
   },
   "outputs": [
    {
     "name": "stdout",
     "output_type": "stream",
     "text": [
      "+-----------+--------------------+--------------------+----------+--------------+\n",
      "|Customer_id|           Full_Name|      Customer_Email|       dob|Customer_Phone|\n",
      "+-----------+--------------------+--------------------+----------+--------------+\n",
      "| V0H084B3FA|         Mahika Gill|mahika.gill@gmail...|1993-06-23|          null|\n",
      "| 7SI1YKSDMB|        Elakshi Gour|elakshi.gour@outl...|1981-06-14|    9638371516|\n",
      "| H0L4L7VHXT|    Tanya Srinivasan|tanyasrinivasan@y...|2003-03-22|          null|\n",
      "| 6I324KGK08|        Kashvi Saraf|kashvisaraf@yahoo...|2001-06-27|    4985572504|\n",
      "| WKJ0VXQFIY|            Piya Ram| piyaram@hotmail.com|1994-03-31|    5549849574|\n",
      "| HT4P3N5R38|    Aniruddh Kothari|aniruddhkothari@h...|1994-04-20|    8609260186|\n",
      "| Y4EHCD6U3G|           Riya Gala|riya.gala@hotmail...|1989-08-10|    6947567136|\n",
      "| KTYHYNJG3Q|    Tarini Sabharwal|tarini.sabharwal@...|1973-12-03|    7701533431|\n",
      "| 2N2119NGLF|     Shanaya Sampath|shanaya_sampath@g...|1988-10-29|    4587205438|\n",
      "| CT2JZ4HB0I|       Hunar Ganesan|hunar_ganesan@gma...|1975-11-15|    2639082834|\n",
      "| HF5N5ZWXFL|         Anaya Raval|anaya.raval@gmail...|1978-02-08|    1631824049|\n",
      "| 4WMWWD3L7C|          Hunar Bhat|hunar_bhat@outloo...|1999-01-17|    4495192598|\n",
      "| RIPWSYBXN8|          Mehul Rege|mehul.rege@gmail.com|1981-02-25|    9384883971|\n",
      "| 9GXGVJOUV1|     Shanaya Bhavsar|shanayabhavsar@gm...|1997-07-19|    8437052858|\n",
      "| WOT5TC8J5V|        Renee Mander|reneemander@yahoo...|2004-06-13|          null|\n",
      "| U38Z486TPA|        Faiyaz Anand|faiyaz.anand@hotm...|1985-02-21|    2501299169|\n",
      "| PYTD6L08D9|     Lakshit Solanki|lakshitsolanki@ya...|1971-12-05|    2320260635|\n",
      "| YDS5XC3E0C|      Mohanlal Goyal|mohanlalgoyal@hot...|1995-10-23|    1396783988|\n",
      "| AB4ANZ6G75|Vardaniya Contractor|vardaniya.contrac...|1968-07-27|    1157033491|\n",
      "| AWVATWP59G|      Shayak Krishna|shayak_krishna@ya...|1983-07-11|    1531277808|\n",
      "+-----------+--------------------+--------------------+----------+--------------+\n",
      "only showing top 20 rows\n",
      "\n"
     ]
    }
   ],
   "source": [
    "# Drop the temporary 'email_check' column\n",
    "cleaned_customer_data2 = cleaned_customer_data1.drop(\"email_check\")\n",
    "\n",
    "# Display the DataFrame with null values for invalid email addresses\n",
    "cleaned_customer_data2.show()"
   ]
  },
  {
   "cell_type": "code",
   "execution_count": null,
   "id": "2a5e456b-ca45-4fdb-9387-e0092e0f244e",
   "metadata": {},
   "outputs": [],
   "source": []
  }
 ],
 "metadata": {
  "kernelspec": {
   "display_name": "PySpark (Local)",
   "language": "python",
   "name": "pyspark"
  },
  "language_info": {
   "codemirror_mode": {
    "name": "ipython",
    "version": 3
   },
   "file_extension": ".py",
   "mimetype": "text/x-python",
   "name": "python",
   "nbconvert_exporter": "python",
   "pygments_lexer": "ipython3",
   "version": "3.10.13"
  }
 },
 "nbformat": 4,
 "nbformat_minor": 5
}
