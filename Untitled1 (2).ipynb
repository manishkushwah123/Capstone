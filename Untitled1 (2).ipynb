{
 "cells": [
  {
   "cell_type": "code",
   "execution_count": 27,
   "id": "b4cd0246-30d8-44b9-ac21-157fc84c93bd",
   "metadata": {
    "tags": []
   },
   "outputs": [
    {
     "name": "stdout",
     "output_type": "stream",
     "text": [
      "+--------------+-----------+--------------------+----------------+-------------------+--------+\n",
      "|transaction_id|  AccountID|TransactionOperation|transaction_type|   transaction_date|  Amount|\n",
      "+--------------+-----------+--------------------+----------------+-------------------+--------+\n",
      "|    TR-1000001|BUS-9125383|          Withdrawal|           debit|2019-08-15 00:00:00| 23496.3|\n",
      "|    TR-1000002|BUS-2381560|          Withdrawal|           debit|2017-03-26 00:00:00|87460.96|\n",
      "|    TR-1000003|BUS-1809830|             Deposit|          credit|2019-09-14 00:00:00|19398.73|\n",
      "|    TR-1000004|BUS-7691907|          Withdrawal|           debit|2018-09-18 00:00:00|30873.71|\n",
      "|    TR-1000005|SAV-2508541|            Transfer|          credit|2019-07-20 00:00:00|97272.09|\n",
      "|    TR-1000006|SAV-9339161|            Transfer|          credit|2019-10-30 00:00:00| 97621.2|\n",
      "|    TR-1000007|CUR-8975490|          Withdrawal|           debit|2017-08-21 00:00:00|75643.43|\n",
      "|    TR-1000008|SAV-1231816|            Transfer|           debit|2019-03-14 00:00:00| 19376.5|\n",
      "|    TR-1000009|SAV-7656787|            Transfer|           debit|2018-08-27 00:00:00|53880.57|\n",
      "|    TR-1000010|SAV-4221788|            Transfer|          credit|2017-06-26 00:00:00|34627.56|\n",
      "|    TR-1000011|CUR-3601470|            Transfer|           debit|2019-02-21 00:00:00|34236.93|\n",
      "|    TR-1000012|BUS-2886637|            Transfer|           debit|2019-05-24 00:00:00|47798.72|\n",
      "|    TR-1000013|SAV-5277436|             Deposit|          credit|2018-08-05 00:00:00|29820.46|\n",
      "|    TR-1000014|BUS-3751412|            Transfer|           debit|2019-12-10 00:00:00| 19170.1|\n",
      "|    TR-1000015|SAV-4551053|            Transfer|          credit|2019-05-07 00:00:00|93803.32|\n",
      "|    TR-1000016|BUS-9936537|             Deposit|          credit|2018-08-26 00:00:00|72281.25|\n",
      "|    TR-1000017|BUS-6072824|            Transfer|           debit|2017-11-20 00:00:00| 5953.34|\n",
      "|    TR-1000018|SAV-4615127|          Withdrawal|           debit|2018-07-02 00:00:00| 29916.7|\n",
      "|    TR-1000019|CUR-8330094|            Transfer|          credit|2017-06-03 00:00:00|89291.61|\n",
      "|    TR-1000020|CUR-1968404|            Transfer|          credit|2019-02-15 00:00:00|61280.23|\n",
      "+--------------+-----------+--------------------+----------------+-------------------+--------+\n",
      "only showing top 20 rows\n",
      "\n"
     ]
    }
   ],
   "source": [
    "from pyspark.sql import SparkSession\n",
    "\n",
    "# Create a Spark session\n",
    "spark = SparkSession.builder \\\n",
    "        .getOrCreate()\n",
    "\n",
    "# Read data from a CSV file\n",
    "file_path = \"transactions.csv\"\n",
    "df = spark.read.csv(file_path, header=True, inferSchema=True)\n",
    "\n",
    "# Show the first few rows of the DataFrame\n",
    "df.show()\n",
    "\n"
   ]
  },
  {
   "cell_type": "code",
   "execution_count": 28,
   "id": "1f363052-0183-431f-b3c9-f82224cdce45",
   "metadata": {
    "tags": []
   },
   "outputs": [
    {
     "name": "stdout",
     "output_type": "stream",
     "text": [
      "+--------------+-----------+--------------------+----------------+-------------------+--------+\n",
      "|transaction_id|  AccountID|TransactionOperation|transaction_type|   transaction_date|  Amount|\n",
      "+--------------+-----------+--------------------+----------------+-------------------+--------+\n",
      "|    TR-1000001|BUS-9125383|          Withdrawal|           debit|2019-08-15 00:00:00| 23496.3|\n",
      "|    TR-1000002|BUS-2381560|          Withdrawal|           debit|2017-03-26 00:00:00|87460.96|\n",
      "|    TR-1000003|BUS-1809830|             Deposit|          credit|2019-09-14 00:00:00|19398.73|\n",
      "|    TR-1000004|BUS-7691907|          Withdrawal|           debit|2018-09-18 00:00:00|30873.71|\n",
      "|    TR-1000005|SAV-2508541|            Transfer|          credit|2019-07-20 00:00:00|97272.09|\n",
      "|    TR-1000006|SAV-9339161|            Transfer|          credit|2019-10-30 00:00:00| 97621.2|\n",
      "|    TR-1000007|CUR-8975490|          Withdrawal|           debit|2017-08-21 00:00:00|75643.43|\n",
      "|    TR-1000008|SAV-1231816|            Transfer|           debit|2019-03-14 00:00:00| 19376.5|\n",
      "|    TR-1000009|SAV-7656787|            Transfer|           debit|2018-08-27 00:00:00|53880.57|\n",
      "|    TR-1000010|SAV-4221788|            Transfer|          credit|2017-06-26 00:00:00|34627.56|\n",
      "|    TR-1000011|CUR-3601470|            Transfer|           debit|2019-02-21 00:00:00|34236.93|\n",
      "|    TR-1000012|BUS-2886637|            Transfer|           debit|2019-05-24 00:00:00|47798.72|\n",
      "|    TR-1000013|SAV-5277436|             Deposit|          credit|2018-08-05 00:00:00|29820.46|\n",
      "|    TR-1000014|BUS-3751412|            Transfer|           debit|2019-12-10 00:00:00| 19170.1|\n",
      "|    TR-1000015|SAV-4551053|            Transfer|          credit|2019-05-07 00:00:00|93803.32|\n",
      "|    TR-1000016|BUS-9936537|             Deposit|          credit|2018-08-26 00:00:00|72281.25|\n",
      "|    TR-1000017|BUS-6072824|            Transfer|           debit|2017-11-20 00:00:00| 5953.34|\n",
      "|    TR-1000018|SAV-4615127|          Withdrawal|           debit|2018-07-02 00:00:00| 29916.7|\n",
      "|    TR-1000019|CUR-8330094|            Transfer|          credit|2017-06-03 00:00:00|89291.61|\n",
      "|    TR-1000020|CUR-1968404|            Transfer|          credit|2019-02-15 00:00:00|61280.23|\n",
      "+--------------+-----------+--------------------+----------------+-------------------+--------+\n",
      "only showing top 20 rows\n",
      "\n"
     ]
    }
   ],
   "source": [
    "# Defining the structure/schema of the data \n",
    "\n",
    "\n",
    "from pyspark.sql.types import StructType, StructField, StringType, TimestampType, DoubleType\n",
    "schema = StructType([\n",
    "    StructField(\"transaction_id\", StringType(), True),\n",
    "    StructField(\"AccountID\", StringType(), True),\n",
    "    StructField(\"TransactionOperation\", StringType(), True),\n",
    "    StructField(\"transaction_type\", StringType(), True),\n",
    "    StructField(\"transaction_date\", TimestampType(), True),\n",
    "    StructField(\"Amount\", DoubleType(), True)\n",
    "])\n",
    "df = spark.read.csv(file_path, header=True, schema=schema)\n",
    "\n",
    "# Show the DataFrame\n",
    "df.show()\n"
   ]
  },
  {
   "cell_type": "code",
   "execution_count": 29,
   "id": "7a2c563e-4739-4b5f-ae00-c8676b5ee46f",
   "metadata": {
    "tags": []
   },
   "outputs": [
    {
     "data": {
      "text/plain": [
       "True"
      ]
     },
     "execution_count": 29,
     "metadata": {},
     "output_type": "execute_result"
    }
   ],
   "source": [
    "#Checking if there are any duplicates in the transaction id \n",
    "df.select(\"transaction_id\").distinct().count() == df.count()"
   ]
  },
  {
   "cell_type": "code",
   "execution_count": null,
   "id": "ad110b91-b548-4c49-af45-c094ae605782",
   "metadata": {},
   "outputs": [],
   "source": []
  },
  {
   "cell_type": "code",
   "execution_count": 30,
   "id": "63e9062f-d7ad-4686-9ac0-d4fdd191572c",
   "metadata": {
    "tags": []
   },
   "outputs": [
    {
     "data": {
      "text/plain": [
       "[0, 0, 0, 0, 0, 0]"
      ]
     },
     "execution_count": 30,
     "metadata": {},
     "output_type": "execute_result"
    }
   ],
   "source": [
    "#Checking if there are any null values in the dataframe\n",
    "from pyspark.sql.functions import *\n",
    "null_counts = [df.where(col(c).isNull()).count() for c in df.columns]\n",
    "null_counts"
   ]
  },
  {
   "cell_type": "code",
   "execution_count": 31,
   "id": "f4ad294a-06a0-4834-8f8a-59667b5b27c9",
   "metadata": {
    "tags": []
   },
   "outputs": [
    {
     "data": {
      "text/plain": [
       "[('transaction_id', 'string'),\n",
       " ('AccountID', 'string'),\n",
       " ('TransactionOperation', 'string'),\n",
       " ('transaction_type', 'string'),\n",
       " ('transaction_date', 'timestamp'),\n",
       " ('Amount', 'double')]"
      ]
     },
     "execution_count": 31,
     "metadata": {},
     "output_type": "execute_result"
    }
   ],
   "source": [
    "# Checking for the types of data\n",
    "dfs.dtypes"
   ]
  },
  {
   "cell_type": "code",
   "execution_count": 32,
   "id": "54b19166-a4c7-4548-98ae-b25184466454",
   "metadata": {
    "tags": []
   },
   "outputs": [],
   "source": [
    "# Dropping the columns where there are null values in the following columns\n",
    "df_filtered = df.na.drop(subset=[\"transaction_id\",\"Amount\",\"AccountId\"])"
   ]
  },
  {
   "cell_type": "code",
   "execution_count": 33,
   "id": "3e1a7ddf-fe63-4484-941c-7dfc4789d688",
   "metadata": {
    "tags": []
   },
   "outputs": [],
   "source": [
    "# replacing  the null values with unknown\n",
    "df_filled = df.fillna(\"unknown\", subset=[\"TransactionOperation\", \"transaction_type\"])"
   ]
  },
  {
   "cell_type": "code",
   "execution_count": 45,
   "id": "cae7dba3-0996-4e35-943b-3bf8e1271d0d",
   "metadata": {
    "tags": []
   },
   "outputs": [
    {
     "name": "stdout",
     "output_type": "stream",
     "text": [
      "+--------------+-----------+--------------------+----------------+-------------------+--------+\n",
      "|transaction_id|  AccountID|TransactionOperation|transaction_type|   transaction_date|  Amount|\n",
      "+--------------+-----------+--------------------+----------------+-------------------+--------+\n",
      "|    TR-1000001|BUS-9125383|          WITHDRAWAL|           DEBIT|2019-08-15 00:00:00| 23496.3|\n",
      "|    TR-1000002|BUS-2381560|          WITHDRAWAL|           DEBIT|2017-03-26 00:00:00|87460.96|\n",
      "|    TR-1000003|BUS-1809830|             DEPOSIT|          CREDIT|2019-09-14 00:00:00|19398.73|\n",
      "|    TR-1000004|BUS-7691907|          WITHDRAWAL|           DEBIT|2018-09-18 00:00:00|30873.71|\n",
      "|    TR-1000005|SAV-2508541|            TRANSFER|          CREDIT|2019-07-20 00:00:00|97272.09|\n",
      "|    TR-1000006|SAV-9339161|            TRANSFER|          CREDIT|2019-10-30 00:00:00| 97621.2|\n",
      "|    TR-1000007|CUR-8975490|          WITHDRAWAL|           DEBIT|2017-08-21 00:00:00|75643.43|\n",
      "|    TR-1000008|SAV-1231816|            TRANSFER|           DEBIT|2019-03-14 00:00:00| 19376.5|\n",
      "|    TR-1000009|SAV-7656787|            TRANSFER|           DEBIT|2018-08-27 00:00:00|53880.57|\n",
      "|    TR-1000010|SAV-4221788|            TRANSFER|          CREDIT|2017-06-26 00:00:00|34627.56|\n",
      "|    TR-1000011|CUR-3601470|            TRANSFER|           DEBIT|2019-02-21 00:00:00|34236.93|\n",
      "|    TR-1000012|BUS-2886637|            TRANSFER|           DEBIT|2019-05-24 00:00:00|47798.72|\n",
      "|    TR-1000013|SAV-5277436|             DEPOSIT|          CREDIT|2018-08-05 00:00:00|29820.46|\n",
      "|    TR-1000014|BUS-3751412|            TRANSFER|           DEBIT|2019-12-10 00:00:00| 19170.1|\n",
      "|    TR-1000015|SAV-4551053|            TRANSFER|          CREDIT|2019-05-07 00:00:00|93803.32|\n",
      "|    TR-1000016|BUS-9936537|             DEPOSIT|          CREDIT|2018-08-26 00:00:00|72281.25|\n",
      "|    TR-1000017|BUS-6072824|            TRANSFER|           DEBIT|2017-11-20 00:00:00| 5953.34|\n",
      "|    TR-1000018|SAV-4615127|          WITHDRAWAL|           DEBIT|2018-07-02 00:00:00| 29916.7|\n",
      "|    TR-1000019|CUR-8330094|            TRANSFER|          CREDIT|2017-06-03 00:00:00|89291.61|\n",
      "|    TR-1000020|CUR-1968404|            TRANSFER|          CREDIT|2019-02-15 00:00:00|61280.23|\n",
      "+--------------+-----------+--------------------+----------------+-------------------+--------+\n",
      "only showing top 20 rows\n",
      "\n"
     ]
    }
   ],
   "source": [
    "#converting the string to upper and removing any spaces \n",
    "\n",
    "df_transformed = df.withColumn(\"transaction_type\", upper(trim(col(\"transaction_type\"))))\n",
    "df_transformed = df_transformed.withColumn(\"TransactionOperation\", upper(trim(col(\"TransactionOperation\"))))\n",
    "df_transformed.show()"
   ]
  },
  {
   "cell_type": "code",
   "execution_count": 44,
   "id": "bc305631-f292-4cf9-8019-0dd43ddd7eb2",
   "metadata": {
    "tags": []
   },
   "outputs": [
    {
     "name": "stdout",
     "output_type": "stream",
     "text": [
      "+--------------+-----------+--------------------+----------------+-------------------+--------+\n",
      "|transaction_id|  AccountID|TransactionOperation|transaction_type|   transaction_date|  Amount|\n",
      "+--------------+-----------+--------------------+----------------+-------------------+--------+\n",
      "|    TR-1000001|BUS-9125383|          WITHDRAWAL|           debit|2019-08-15 00:00:00| 23496.3|\n",
      "|    TR-1000002|BUS-2381560|          WITHDRAWAL|           debit|2017-03-26 00:00:00|87460.96|\n",
      "|    TR-1000003|BUS-1809830|             DEPOSIT|          credit|2019-09-14 00:00:00|19398.73|\n",
      "|    TR-1000004|BUS-7691907|          WITHDRAWAL|           debit|2018-09-18 00:00:00|30873.71|\n",
      "|    TR-1000005|SAV-2508541|            TRANSFER|          credit|2019-07-20 00:00:00|97272.09|\n",
      "|    TR-1000006|SAV-9339161|            TRANSFER|          credit|2019-10-30 00:00:00| 97621.2|\n",
      "|    TR-1000007|CUR-8975490|          WITHDRAWAL|           debit|2017-08-21 00:00:00|75643.43|\n",
      "|    TR-1000008|SAV-1231816|            TRANSFER|           debit|2019-03-14 00:00:00| 19376.5|\n",
      "|    TR-1000009|SAV-7656787|            TRANSFER|           debit|2018-08-27 00:00:00|53880.57|\n",
      "|    TR-1000010|SAV-4221788|            TRANSFER|          credit|2017-06-26 00:00:00|34627.56|\n",
      "|    TR-1000011|CUR-3601470|            TRANSFER|           debit|2019-02-21 00:00:00|34236.93|\n",
      "|    TR-1000012|BUS-2886637|            TRANSFER|           debit|2019-05-24 00:00:00|47798.72|\n",
      "|    TR-1000013|SAV-5277436|             DEPOSIT|          credit|2018-08-05 00:00:00|29820.46|\n",
      "|    TR-1000014|BUS-3751412|            TRANSFER|           debit|2019-12-10 00:00:00| 19170.1|\n",
      "|    TR-1000015|SAV-4551053|            TRANSFER|          credit|2019-05-07 00:00:00|93803.32|\n",
      "|    TR-1000016|BUS-9936537|             DEPOSIT|          credit|2018-08-26 00:00:00|72281.25|\n",
      "|    TR-1000017|BUS-6072824|            TRANSFER|           debit|2017-11-20 00:00:00| 5953.34|\n",
      "|    TR-1000018|SAV-4615127|          WITHDRAWAL|           debit|2018-07-02 00:00:00| 29916.7|\n",
      "|    TR-1000019|CUR-8330094|            TRANSFER|          credit|2017-06-03 00:00:00|89291.61|\n",
      "|    TR-1000020|CUR-1968404|            TRANSFER|          credit|2019-02-15 00:00:00|61280.23|\n",
      "+--------------+-----------+--------------------+----------------+-------------------+--------+\n",
      "only showing top 20 rows\n",
      "\n"
     ]
    }
   ],
   "source": []
  },
  {
   "cell_type": "code",
   "execution_count": null,
   "id": "076da174-17dd-4ab2-a4e1-5d9d423fb942",
   "metadata": {
    "tags": []
   },
   "outputs": [],
   "source": []
  }
 ],
 "metadata": {
  "kernelspec": {
   "display_name": "PySpark (Local)",
   "language": "python",
   "name": "pyspark"
  },
  "language_info": {
   "codemirror_mode": {
    "name": "ipython",
    "version": 3
   },
   "file_extension": ".py",
   "mimetype": "text/x-python",
   "name": "python",
   "nbconvert_exporter": "python",
   "pygments_lexer": "ipython3",
   "version": "3.10.13"
  }
 },
 "nbformat": 4,
 "nbformat_minor": 5
}
