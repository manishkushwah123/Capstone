{
 "cells": [
  {
   "cell_type": "code",
   "execution_count": 1,
   "id": "d50d36e3-da19-4d00-a6f1-c4ba3148fab2",
   "metadata": {
    "tags": []
   },
   "outputs": [
    {
     "name": "stderr",
     "output_type": "stream",
     "text": [
      "                                                                                \r"
     ]
    },
    {
     "name": "stdout",
     "output_type": "stream",
     "text": [
      "+-----------+--------------------+--------------------+----------+--------------+\n",
      "|Customer_id|           Full_Name|      Customer_Email|       dob|Customer_Phone|\n",
      "+-----------+--------------------+--------------------+----------+--------------+\n",
      "| V0H084B3FA|         Mahika Gill|mahika.gill@gmail...| 6/23/1993|     785877743|\n",
      "| 7SI1YKSDMB|        Elakshi Gour|elakshi.gour@outl...| 6/14/1981|    9638371516|\n",
      "| H0L4L7VHXT|    Tanya Srinivasan|tanyasrinivasan@y...| 3/22/2003|     559420656|\n",
      "| 6I324KGK08|        Kashvi Saraf|kashvisaraf@yahoo...| 6/27/2001|    4985572504|\n",
      "| WKJ0VXQFIY|            Piya Ram| piyaram@hotmail.com| 3/31/1994|    5549849574|\n",
      "| HT4P3N5R38|    Aniruddh Kothari|aniruddhkothari@h...| 4/20/1994|    8609260186|\n",
      "| Y4EHCD6U3G|           Riya Gala|riya.gala@hotmail...| 8/10/1989|    6947567136|\n",
      "| KTYHYNJG3Q|    Tarini Sabharwal|tarini.sabharwal@...| 12/3/1973|    7701533431|\n",
      "| 2N2119NGLF|     Shanaya Sampath|shanaya_sampath@g...|10/29/1988|    4587205438|\n",
      "| CT2JZ4HB0I|       Hunar Ganesan|hunar_ganesan@gma...|11/15/1975|    2639082834|\n",
      "| HF5N5ZWXFL|         Anaya Raval|anaya.raval@gmail...|  2/8/1978|    1631824049|\n",
      "| 4WMWWD3L7C|          Hunar Bhat|hunar_bhat@outloo...| 1/17/1999|    4495192598|\n",
      "| RIPWSYBXN8|          Mehul Rege|mehul.rege@gmail.com| 2/25/1981|    9384883971|\n",
      "| 9GXGVJOUV1|     Shanaya Bhavsar|shanayabhavsar@gm...| 7/19/1997|    8437052858|\n",
      "| WOT5TC8J5V|        Renee Mander|reneemander@yahoo...| 6/13/2004|     958564312|\n",
      "| U38Z486TPA|        Faiyaz Anand|faiyaz.anand@hotm...| 2/21/1985|    2501299169|\n",
      "| PYTD6L08D9|     Lakshit Solanki|lakshitsolanki@ya...| 12/5/1971|    2320260635|\n",
      "| YDS5XC3E0C|      Mohanlal Goyal|mohanlalgoyal@hot...|10/23/1995|    1396783988|\n",
      "| AB4ANZ6G75|Vardaniya Contractor|vardaniya.contrac...| 7/27/1968|    1157033491|\n",
      "| AWVATWP59G|      Shayak Krishna|shayak_krishna@ya...| 7/11/1983|    1531277808|\n",
      "+-----------+--------------------+--------------------+----------+--------------+\n",
      "only showing top 20 rows\n",
      "\n"
     ]
    }
   ],
   "source": [
    "from pyspark.sql import SparkSession\n",
    "from pyspark.sql.functions import *\n",
    "from pyspark.sql.types import *\n",
    "# Read data from a CSV file\n",
    "input_path = 'gs://capstone-g4/customers.csv'\n",
    "customers_df = spark.read.csv(input_path, header=True, inferSchema=True)\n",
    "\n",
    "# Show the first few rows of the DataFrame\n",
    "customers_df.show()\n"
   ]
  },
  {
   "cell_type": "code",
   "execution_count": 2,
   "id": "53b4e658-d667-479f-8c7d-4e82c0a9b056",
   "metadata": {
    "tags": []
   },
   "outputs": [
    {
     "name": "stdout",
     "output_type": "stream",
     "text": [
      "root\n",
      " |-- Customer_id: string (nullable = true)\n",
      " |-- Full_Name: string (nullable = true)\n",
      " |-- Customer_Email: string (nullable = true)\n",
      " |-- dob: string (nullable = true)\n",
      " |-- Customer_Phone: long (nullable = true)\n",
      "\n"
     ]
    }
   ],
   "source": [
    "customers_df.printSchema()"
   ]
  },
  {
   "cell_type": "code",
   "execution_count": 3,
   "id": "c0080803-c911-4a23-bf1e-166f7e8eed6c",
   "metadata": {
    "tags": []
   },
   "outputs": [],
   "source": [
    "cleaned_data = customers_df.withColumn('dob', to_date('dob', 'M/d/yyyy'))"
   ]
  },
  {
   "cell_type": "code",
   "execution_count": 4,
   "id": "647ec1ca-5e12-44af-9284-e52105b0b927",
   "metadata": {
    "tags": []
   },
   "outputs": [
    {
     "name": "stdout",
     "output_type": "stream",
     "text": [
      "root\n",
      " |-- Customer_id: string (nullable = true)\n",
      " |-- Full_Name: string (nullable = true)\n",
      " |-- Customer_Email: string (nullable = true)\n",
      " |-- dob: date (nullable = true)\n",
      " |-- Customer_Phone: long (nullable = true)\n",
      "\n"
     ]
    }
   ],
   "source": [
    "cleaned_data.printSchema()"
   ]
  },
  {
   "cell_type": "code",
   "execution_count": 5,
   "id": "222bfe05-38c1-4017-a01d-7930d57425b9",
   "metadata": {
    "tags": []
   },
   "outputs": [
    {
     "name": "stdout",
     "output_type": "stream",
     "text": [
      "+-----------+--------------------+--------------------+----------+--------------+\n",
      "|Customer_id|           Full_Name|      Customer_Email|       dob|Customer_Phone|\n",
      "+-----------+--------------------+--------------------+----------+--------------+\n",
      "| V0H084B3FA|         Mahika Gill|mahika.gill@gmail...|1993-06-23|     785877743|\n",
      "| 7SI1YKSDMB|        Elakshi Gour|elakshi.gour@outl...|1981-06-14|    9638371516|\n",
      "| H0L4L7VHXT|    Tanya Srinivasan|tanyasrinivasan@y...|2003-03-22|     559420656|\n",
      "| 6I324KGK08|        Kashvi Saraf|kashvisaraf@yahoo...|2001-06-27|    4985572504|\n",
      "| WKJ0VXQFIY|            Piya Ram| piyaram@hotmail.com|1994-03-31|    5549849574|\n",
      "| HT4P3N5R38|    Aniruddh Kothari|aniruddhkothari@h...|1994-04-20|    8609260186|\n",
      "| Y4EHCD6U3G|           Riya Gala|riya.gala@hotmail...|1989-08-10|    6947567136|\n",
      "| KTYHYNJG3Q|    Tarini Sabharwal|tarini.sabharwal@...|1973-12-03|    7701533431|\n",
      "| 2N2119NGLF|     Shanaya Sampath|shanaya_sampath@g...|1988-10-29|    4587205438|\n",
      "| CT2JZ4HB0I|       Hunar Ganesan|hunar_ganesan@gma...|1975-11-15|    2639082834|\n",
      "| HF5N5ZWXFL|         Anaya Raval|anaya.raval@gmail...|1978-02-08|    1631824049|\n",
      "| 4WMWWD3L7C|          Hunar Bhat|hunar_bhat@outloo...|1999-01-17|    4495192598|\n",
      "| RIPWSYBXN8|          Mehul Rege|mehul.rege@gmail.com|1981-02-25|    9384883971|\n",
      "| 9GXGVJOUV1|     Shanaya Bhavsar|shanayabhavsar@gm...|1997-07-19|    8437052858|\n",
      "| WOT5TC8J5V|        Renee Mander|reneemander@yahoo...|2004-06-13|     958564312|\n",
      "| U38Z486TPA|        Faiyaz Anand|faiyaz.anand@hotm...|1985-02-21|    2501299169|\n",
      "| PYTD6L08D9|     Lakshit Solanki|lakshitsolanki@ya...|1971-12-05|    2320260635|\n",
      "| YDS5XC3E0C|      Mohanlal Goyal|mohanlalgoyal@hot...|1995-10-23|    1396783988|\n",
      "| AB4ANZ6G75|Vardaniya Contractor|vardaniya.contrac...|1968-07-27|    1157033491|\n",
      "| AWVATWP59G|      Shayak Krishna|shayak_krishna@ya...|1983-07-11|    1531277808|\n",
      "+-----------+--------------------+--------------------+----------+--------------+\n",
      "only showing top 20 rows\n",
      "\n"
     ]
    },
    {
     "name": "stderr",
     "output_type": "stream",
     "text": [
      "                                                                                \r"
     ]
    }
   ],
   "source": [
    "cleaned_data.show()"
   ]
  },
  {
   "cell_type": "code",
   "execution_count": 6,
   "id": "6445dff5-bba7-4db1-8398-7247baece95f",
   "metadata": {
    "tags": []
   },
   "outputs": [],
   "source": [
    "# Handle missing values\n",
    "cleaned_customer_data = cleaned_data.fillna({'Full_Name': 'Unknown', 'Customer_Email': 'Unknown','Customer_Phone': 0})"
   ]
  },
  {
   "cell_type": "code",
   "execution_count": 7,
   "id": "12edb7b9-feb1-4c75-b323-1e7fedb32ea0",
   "metadata": {
    "tags": []
   },
   "outputs": [],
   "source": [
    "# Handle duplicates\n",
    "cleaned_customer_data = cleaned_data.dropDuplicates([\"Customer_id\"])"
   ]
  },
  {
   "cell_type": "code",
   "execution_count": 8,
   "id": "53f4eb1a-f4d1-4d50-b0bc-e29aaf2297f3",
   "metadata": {
    "tags": []
   },
   "outputs": [
    {
     "name": "stdout",
     "output_type": "stream",
     "text": [
      "+-----------+--------------------+--------------------+----------+--------------+\n",
      "|Customer_id|           Full_Name|      Customer_Email|       dob|Customer_Phone|\n",
      "+-----------+--------------------+--------------------+----------+--------------+\n",
      "| V0H084B3FA|         Mahika Gill|mahika.gill@gmail...|1993-06-23|          null|\n",
      "| 7SI1YKSDMB|        Elakshi Gour|elakshi.gour@outl...|1981-06-14|    9638371516|\n",
      "| H0L4L7VHXT|    Tanya Srinivasan|tanyasrinivasan@y...|2003-03-22|          null|\n",
      "| 6I324KGK08|        Kashvi Saraf|kashvisaraf@yahoo...|2001-06-27|    4985572504|\n",
      "| WKJ0VXQFIY|            Piya Ram| piyaram@hotmail.com|1994-03-31|    5549849574|\n",
      "| HT4P3N5R38|    Aniruddh Kothari|aniruddhkothari@h...|1994-04-20|    8609260186|\n",
      "| Y4EHCD6U3G|           Riya Gala|riya.gala@hotmail...|1989-08-10|    6947567136|\n",
      "| KTYHYNJG3Q|    Tarini Sabharwal|tarini.sabharwal@...|1973-12-03|    7701533431|\n",
      "| 2N2119NGLF|     Shanaya Sampath|shanaya_sampath@g...|1988-10-29|    4587205438|\n",
      "| CT2JZ4HB0I|       Hunar Ganesan|hunar_ganesan@gma...|1975-11-15|    2639082834|\n",
      "| HF5N5ZWXFL|         Anaya Raval|anaya.raval@gmail...|1978-02-08|    1631824049|\n",
      "| 4WMWWD3L7C|          Hunar Bhat|hunar_bhat@outloo...|1999-01-17|    4495192598|\n",
      "| RIPWSYBXN8|          Mehul Rege|mehul.rege@gmail.com|1981-02-25|    9384883971|\n",
      "| 9GXGVJOUV1|     Shanaya Bhavsar|shanayabhavsar@gm...|1997-07-19|    8437052858|\n",
      "| WOT5TC8J5V|        Renee Mander|reneemander@yahoo...|2004-06-13|          null|\n",
      "| U38Z486TPA|        Faiyaz Anand|faiyaz.anand@hotm...|1985-02-21|    2501299169|\n",
      "| PYTD6L08D9|     Lakshit Solanki|lakshitsolanki@ya...|1971-12-05|    2320260635|\n",
      "| YDS5XC3E0C|      Mohanlal Goyal|mohanlalgoyal@hot...|1995-10-23|    1396783988|\n",
      "| AB4ANZ6G75|Vardaniya Contractor|vardaniya.contrac...|1968-07-27|    1157033491|\n",
      "| AWVATWP59G|      Shayak Krishna|shayak_krishna@ya...|1983-07-11|    1531277808|\n",
      "+-----------+--------------------+--------------------+----------+--------------+\n",
      "only showing top 20 rows\n",
      "\n"
     ]
    }
   ],
   "source": [
    "# Replace invalid phone numbers with null values\n",
    "cleaned_customer_data = cleaned_data.withColumn('Customer_Phone', when(length(col('Customer_Phone')) == 10, col('Customer_Phone')).otherwise(None))\n",
    "cleaned_customer_data.show()"
   ]
  },
  {
   "cell_type": "code",
   "execution_count": 9,
   "id": "33982502-bd5f-433c-b213-11bc803df389",
   "metadata": {
    "tags": []
   },
   "outputs": [
    {
     "name": "stdout",
     "output_type": "stream",
     "text": [
      "+-----------+--------------------+--------------------+----------+--------------+\n",
      "|Customer_id|           Full_Name|      Customer_Email|       dob|Customer_Phone|\n",
      "+-----------+--------------------+--------------------+----------+--------------+\n",
      "| V0H084B3FA|         Mahika Gill|mahika.gill@gmail...|1993-06-23|          null|\n",
      "| 7SI1YKSDMB|        Elakshi Gour|elakshi.gour@outl...|1981-06-14|    9638371516|\n",
      "| H0L4L7VHXT|    Tanya Srinivasan|tanyasrinivasan@y...|2003-03-22|          null|\n",
      "| 6I324KGK08|        Kashvi Saraf|kashvisaraf@yahoo...|2001-06-27|    4985572504|\n",
      "| WKJ0VXQFIY|            Piya Ram| piyaram@hotmail.com|1994-03-31|    5549849574|\n",
      "| HT4P3N5R38|    Aniruddh Kothari|aniruddhkothari@h...|1994-04-20|    8609260186|\n",
      "| Y4EHCD6U3G|           Riya Gala|riya.gala@hotmail...|1989-08-10|    6947567136|\n",
      "| KTYHYNJG3Q|    Tarini Sabharwal|tarini.sabharwal@...|1973-12-03|    7701533431|\n",
      "| 2N2119NGLF|     Shanaya Sampath|shanaya_sampath@g...|1988-10-29|    4587205438|\n",
      "| CT2JZ4HB0I|       Hunar Ganesan|hunar_ganesan@gma...|1975-11-15|    2639082834|\n",
      "| HF5N5ZWXFL|         Anaya Raval|anaya.raval@gmail...|1978-02-08|    1631824049|\n",
      "| 4WMWWD3L7C|          Hunar Bhat|hunar_bhat@outloo...|1999-01-17|    4495192598|\n",
      "| RIPWSYBXN8|          Mehul Rege|mehul.rege@gmail.com|1981-02-25|    9384883971|\n",
      "| 9GXGVJOUV1|     Shanaya Bhavsar|shanayabhavsar@gm...|1997-07-19|    8437052858|\n",
      "| WOT5TC8J5V|        Renee Mander|reneemander@yahoo...|2004-06-13|          null|\n",
      "| U38Z486TPA|        Faiyaz Anand|faiyaz.anand@hotm...|1985-02-21|    2501299169|\n",
      "| PYTD6L08D9|     Lakshit Solanki|lakshitsolanki@ya...|1971-12-05|    2320260635|\n",
      "| YDS5XC3E0C|      Mohanlal Goyal|mohanlalgoyal@hot...|1995-10-23|    1396783988|\n",
      "| AB4ANZ6G75|Vardaniya Contractor|vardaniya.contrac...|1968-07-27|    1157033491|\n",
      "| AWVATWP59G|      Shayak Krishna|shayak_krishna@ya...|1983-07-11|    1531277808|\n",
      "+-----------+--------------------+--------------------+----------+--------------+\n",
      "only showing top 20 rows\n",
      "\n"
     ]
    }
   ],
   "source": [
    "cleaned_customer_data1 = cleaned_customer_data.withColumn('Full_Name', initcap('Full_Name'))\n",
    "cleaned_customer_data1.show()"
   ]
  },
  {
   "cell_type": "code",
   "execution_count": 10,
   "id": "ce054c10-72f7-4d2b-b359-00deae145072",
   "metadata": {
    "tags": []
   },
   "outputs": [],
   "source": [
    "cleaned_customer_data2 = cleaned_customer_data1.withColumn(\"email_check\", regexp_extract(col(\"Customer_Email\"), r'^\\S+@\\S+\\.\\S+', 0))"
   ]
  },
  {
   "cell_type": "code",
   "execution_count": 11,
   "id": "74e2ad09-45b3-4423-9ffd-4772e4479257",
   "metadata": {
    "tags": []
   },
   "outputs": [],
   "source": [
    "cleaned_customer_data2 = cleaned_customer_data2.withColumn(\"Customer_Email\", when(col(\"email_check\") != \"\", col(\"Customer_Email\")).otherwise(None))\n"
   ]
  },
  {
   "cell_type": "code",
   "execution_count": 12,
   "id": "b1706115-8ee0-4ff6-aec6-801b8cae9786",
   "metadata": {
    "tags": []
   },
   "outputs": [
    {
     "name": "stdout",
     "output_type": "stream",
     "text": [
      "+-----------+--------------------+--------------------+----------+--------------+\n",
      "|Customer_id|           Full_Name|      Customer_Email|       dob|Customer_Phone|\n",
      "+-----------+--------------------+--------------------+----------+--------------+\n",
      "| V0H084B3FA|         Mahika Gill|mahika.gill@gmail...|1993-06-23|          null|\n",
      "| 7SI1YKSDMB|        Elakshi Gour|elakshi.gour@outl...|1981-06-14|    9638371516|\n",
      "| H0L4L7VHXT|    Tanya Srinivasan|tanyasrinivasan@y...|2003-03-22|          null|\n",
      "| 6I324KGK08|        Kashvi Saraf|kashvisaraf@yahoo...|2001-06-27|    4985572504|\n",
      "| WKJ0VXQFIY|            Piya Ram| piyaram@hotmail.com|1994-03-31|    5549849574|\n",
      "| HT4P3N5R38|    Aniruddh Kothari|aniruddhkothari@h...|1994-04-20|    8609260186|\n",
      "| Y4EHCD6U3G|           Riya Gala|riya.gala@hotmail...|1989-08-10|    6947567136|\n",
      "| KTYHYNJG3Q|    Tarini Sabharwal|tarini.sabharwal@...|1973-12-03|    7701533431|\n",
      "| 2N2119NGLF|     Shanaya Sampath|shanaya_sampath@g...|1988-10-29|    4587205438|\n",
      "| CT2JZ4HB0I|       Hunar Ganesan|hunar_ganesan@gma...|1975-11-15|    2639082834|\n",
      "| HF5N5ZWXFL|         Anaya Raval|anaya.raval@gmail...|1978-02-08|    1631824049|\n",
      "| 4WMWWD3L7C|          Hunar Bhat|hunar_bhat@outloo...|1999-01-17|    4495192598|\n",
      "| RIPWSYBXN8|          Mehul Rege|mehul.rege@gmail.com|1981-02-25|    9384883971|\n",
      "| 9GXGVJOUV1|     Shanaya Bhavsar|shanayabhavsar@gm...|1997-07-19|    8437052858|\n",
      "| WOT5TC8J5V|        Renee Mander|reneemander@yahoo...|2004-06-13|          null|\n",
      "| U38Z486TPA|        Faiyaz Anand|faiyaz.anand@hotm...|1985-02-21|    2501299169|\n",
      "| PYTD6L08D9|     Lakshit Solanki|lakshitsolanki@ya...|1971-12-05|    2320260635|\n",
      "| YDS5XC3E0C|      Mohanlal Goyal|mohanlalgoyal@hot...|1995-10-23|    1396783988|\n",
      "| AB4ANZ6G75|Vardaniya Contractor|vardaniya.contrac...|1968-07-27|    1157033491|\n",
      "| AWVATWP59G|      Shayak Krishna|shayak_krishna@ya...|1983-07-11|    1531277808|\n",
      "+-----------+--------------------+--------------------+----------+--------------+\n",
      "only showing top 20 rows\n",
      "\n"
     ]
    }
   ],
   "source": [
    "# Drop the temporary 'email_check' column\n",
    "cleaned_customer_data2 = cleaned_customer_data1.drop(\"email_check\")\n",
    "\n",
    "# Display the DataFrame with null values for invalid email addresses\n",
    "cleaned_customer_data2.show()"
   ]
  },
  {
   "cell_type": "code",
   "execution_count": 13,
   "id": "e03514bd-35eb-4d60-a60b-c9861baa8bd0",
   "metadata": {
    "tags": []
   },
   "outputs": [
    {
     "name": "stderr",
     "output_type": "stream",
     "text": [
      "                                                                                \r"
     ]
    }
   ],
   "source": [
    "# Specify the desired file name and path\n",
    "desired_file_name = \"gs://capstone-g4/cleaned_data/customers.csv\"\n",
    "\n",
    "# Write the cleaned DataFrame to a CSV file with the desired file name\n",
    "cleaned_customer_data2.write.csv(desired_file_name, header=True, mode=\"append\")"
   ]
  },
  {
   "cell_type": "code",
   "execution_count": null,
   "id": "d863584a-6b1c-47f0-837a-bee57fdfea73",
   "metadata": {},
   "outputs": [],
   "source": []
  }
 ],
 "metadata": {
  "kernelspec": {
   "display_name": "PySpark (Local)",
   "language": "python",
   "name": "pyspark"
  },
  "language_info": {
   "codemirror_mode": {
    "name": "ipython",
    "version": 3
   },
   "file_extension": ".py",
   "mimetype": "text/x-python",
   "name": "python",
   "nbconvert_exporter": "python",
   "pygments_lexer": "ipython3",
   "version": "3.10.13"
  }
 },
 "nbformat": 4,
 "nbformat_minor": 5
}
