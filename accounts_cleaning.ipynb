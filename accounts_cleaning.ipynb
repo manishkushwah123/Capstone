{
 "cells": [
  {
   "cell_type": "code",
   "execution_count": 276,
   "id": "78e20b9c-4040-4b5a-a48c-2ccacc126876",
   "metadata": {
    "tags": []
   },
   "outputs": [],
   "source": [
    "from pyspark.sql import SparkSession\n",
    "from pyspark.sql.functions import *\n",
    "from pyspark.sql.types import *"
   ]
  },
  {
   "cell_type": "code",
   "execution_count": 277,
   "id": "dfa85042-2e34-4c72-ad7f-b310eef7b7a4",
   "metadata": {
    "tags": []
   },
   "outputs": [
    {
     "name": "stdout",
     "output_type": "stream",
     "text": [
      "+-----------+----------+-----------+-----------+----------------+---------+---------------+\n",
      "|  AccountId|CustomerID|AccountType|    Balance|last_kyc_updated|branch_id|account_created|\n",
      "+-----------+----------+-----------+-----------+----------------+---------+---------------+\n",
      "|BUS-1990298|3GFT1ZDW4G|   Business|30342570.25|      10/30/2022| BR-00015|      1/29/2006|\n",
      "|SAV-5186099|VRWR0O400I|    Savings|41896208.43|        6/4/2022| BR-00133|      8/21/2008|\n",
      "|CUR-9367339|D55UJI8WV0|    Current|32272303.31|       6/18/2021| BR-00001|     10/20/1998|\n",
      "|SAV-4887415|53CR23T46S|    Savings|72880621.93|        3/9/2020| BR-00004|     11/15/2012|\n",
      "|SAV-1692074|HZDGV2JYU1|    Savings|29188271.76|       5/28/2021| BR-00099|     10/11/2020|\n",
      "|BUS-7665995|MSUHT18DWD|   Business|24902534.91|      10/15/2019| BR-00011|      7/23/1999|\n",
      "|CUR-8976663|VE674KTE1E|    Current|59816713.45|       7/15/2020| BR-00187|      2/26/2016|\n",
      "|BUS-2814494|BVZA30CZ4F|   Business| 92399809.3|       1/15/2021| BR-00194|      11/2/2013|\n",
      "|CUR-7652188|8QI53UAIB3|    Current|  867487.31|      11/28/2020| BR-00194|      6/13/2018|\n",
      "|BUS-8906991|RKRBYY4RQG|   Business|46569638.61|       5/11/2022| BR-00114|      12/9/2009|\n",
      "|BUS-7894402|IEQTETRWMF|   Business|39918507.62|        1/7/2020| BR-00104|      8/10/2017|\n",
      "|BUS-6123351|EEZOSGWNKW|   Business|43172890.92|        1/2/2019| BR-00018|      5/29/1999|\n",
      "|CUR-2896324|6LO9E9YYFV|    Current|          ?|       6/12/2020| BR-00051|     10/27/1999|\n",
      "|CUR-5457892|Y4GAJ7OJ24|    Current| 62290433.5|      12/21/2021| BR-00185|      3/28/1996|\n",
      "|CUR-6107197|8HA6QZT85S|    Current|19947890.66|       6/15/2020| BR-00106|       3/8/2003|\n",
      "|SAV-6782110|8C11OOEXY0|    Savings|27423315.92|        4/8/2019| BR-00025|      2/20/2002|\n",
      "|CUR-3738506|YUQBEA83MM|    Current| 2999114.84|       2/17/2021| BR-00153|       3/7/2015|\n",
      "|SAV-6071086|TVTEEYRAGF|    Savings|54978895.18|        8/6/2021| BR-00179|      6/20/1992|\n",
      "|BUS-9736317|A9V7MDXUO5|   Business|96248400.32|       5/17/2022| BR-00134|     11/14/2020|\n",
      "|SAV-6704407|8EHQNW7F5Z|    Savings|87274282.72|      11/21/2022| BR-00088|      8/10/2013|\n",
      "+-----------+----------+-----------+-----------+----------------+---------+---------------+\n",
      "only showing top 20 rows\n",
      "\n"
     ]
    }
   ],
   "source": [
    "# Specify the path to your CSV file\n",
    "csv_file_path = \"gs://capstondata/accounts.csv\"\n",
    "\n",
    "# Read the CSV file into a DataFrame with inferred schema\n",
    "df = spark.read.csv(csv_file_path, header=True, inferSchema=True)\n",
    "\n",
    "# Show the contents of the DataFrame\n",
    "df.show()"
   ]
  },
  {
   "cell_type": "code",
   "execution_count": 278,
   "id": "8c08f274-0cd2-4252-a1fb-711ed0cb168b",
   "metadata": {
    "tags": []
   },
   "outputs": [
    {
     "name": "stdout",
     "output_type": "stream",
     "text": [
      "+-----------+--------------------+--------------------+----------+--------------+\n",
      "|Customer_id|           Full_Name|      Customer_Email|       dob|Customer_Phone|\n",
      "+-----------+--------------------+--------------------+----------+--------------+\n",
      "| V0H084B3FA|         Mahika Gill|mahika.gill@gmail...| 6/23/1993|     785877743|\n",
      "| 7SI1YKSDMB|        Elakshi Gour|elakshi.gour@outl...| 6/14/1981|    9638371516|\n",
      "| H0L4L7VHXT|    Tanya Srinivasan|tanyasrinivasan@y...| 3/22/2003|     559420656|\n",
      "| 6I324KGK08|        Kashvi Saraf|kashvisaraf@yahoo...| 6/27/2001|    4985572504|\n",
      "| WKJ0VXQFIY|            Piya Ram| piyaram@hotmail.com| 3/31/1994|    5549849574|\n",
      "| HT4P3N5R38|    Aniruddh Kothari|aniruddhkothari@h...| 4/20/1994|    8609260186|\n",
      "| Y4EHCD6U3G|           Riya Gala|riya.gala@hotmail...| 8/10/1989|    6947567136|\n",
      "| KTYHYNJG3Q|    Tarini Sabharwal|tarini.sabharwal@...| 12/3/1973|    7701533431|\n",
      "| 2N2119NGLF|     Shanaya Sampath|shanaya_sampath@g...|10/29/1988|    4587205438|\n",
      "| CT2JZ4HB0I|       Hunar Ganesan|hunar_ganesan@gma...|11/15/1975|    2639082834|\n",
      "| HF5N5ZWXFL|         Anaya Raval|anaya.raval@gmail...|  2/8/1978|    1631824049|\n",
      "| 4WMWWD3L7C|          Hunar Bhat|hunar_bhat@outloo...| 1/17/1999|    4495192598|\n",
      "| RIPWSYBXN8|          Mehul Rege|mehul.rege@gmail.com| 2/25/1981|    9384883971|\n",
      "| 9GXGVJOUV1|     Shanaya Bhavsar|shanayabhavsar@gm...| 7/19/1997|    8437052858|\n",
      "| WOT5TC8J5V|        Renee Mander|reneemander@yahoo...| 6/13/2004|     958564312|\n",
      "| U38Z486TPA|        Faiyaz Anand|faiyaz.anand@hotm...| 2/21/1985|    2501299169|\n",
      "| PYTD6L08D9|     Lakshit Solanki|lakshitsolanki@ya...| 12/5/1971|    2320260635|\n",
      "| YDS5XC3E0C|      Mohanlal Goyal|mohanlalgoyal@hot...|10/23/1995|    1396783988|\n",
      "| AB4ANZ6G75|Vardaniya Contractor|vardaniya.contrac...| 7/27/1968|    1157033491|\n",
      "| AWVATWP59G|      Shayak Krishna|shayak_krishna@ya...| 7/11/1983|    1531277808|\n",
      "+-----------+--------------------+--------------------+----------+--------------+\n",
      "only showing top 20 rows\n",
      "\n"
     ]
    }
   ],
   "source": [
    "# Specify the path to your CSV file\n",
    "csv_file_path = \"gs://capstondata/customers.csv\"\n",
    "\n",
    "# Read the CSV file into a DataFrame with inferred schema\n",
    "customers = spark.read.csv(csv_file_path, header=True, inferSchema=True)\n",
    "\n",
    "# Show the contents of the DataFrame\n",
    "customers.show()"
   ]
  },
  {
   "cell_type": "code",
   "execution_count": 279,
   "id": "c6f36a3c-8a18-476d-852e-83081b838630",
   "metadata": {
    "tags": []
   },
   "outputs": [
    {
     "name": "stdout",
     "output_type": "stream",
     "text": [
      "root\n",
      " |-- AccountId: string (nullable = true)\n",
      " |-- CustomerID: string (nullable = true)\n",
      " |-- AccountType: string (nullable = true)\n",
      " |-- Balance: string (nullable = true)\n",
      " |-- last_kyc_updated: string (nullable = true)\n",
      " |-- branch_id: string (nullable = true)\n",
      " |-- account_created: string (nullable = true)\n",
      "\n"
     ]
    }
   ],
   "source": [
    "df.printSchema()"
   ]
  },
  {
   "cell_type": "code",
   "execution_count": 280,
   "id": "098f131c-23b4-4809-871b-b8ea04966fcd",
   "metadata": {
    "tags": []
   },
   "outputs": [],
   "source": [
    "#REMOVE DUPLICATES\n",
    "df=df.dropDuplicates()"
   ]
  },
  {
   "cell_type": "code",
   "execution_count": 281,
   "id": "84744a33-c8a4-43cc-927b-1195c4f01b22",
   "metadata": {
    "tags": []
   },
   "outputs": [],
   "source": [
    "#dropping entire row if null\n",
    "df= df.na.drop(subset='AccountId')"
   ]
  },
  {
   "cell_type": "code",
   "execution_count": 282,
   "id": "a33c360d-9151-4c44-adef-c210c224b822",
   "metadata": {
    "tags": []
   },
   "outputs": [],
   "source": [
    "df= df.join(customers, col(\"CustomerID\") == col(\"Customer_id\"), how=\"left\")\\\n",
    "       .select('AccountId', 'Customer_id','AccountType', 'Balance', 'last_kyc_updated', 'branch_id', 'account_created')"
   ]
  },
  {
   "cell_type": "code",
   "execution_count": 283,
   "id": "e9ca3b76-9bf3-4683-8a67-a6d642765077",
   "metadata": {
    "tags": []
   },
   "outputs": [
    {
     "name": "stdout",
     "output_type": "stream",
     "text": [
      "+-----------+-----------+-----------+-----------+----------------+---------+---------------+\n",
      "|  AccountId|Customer_id|AccountType|    Balance|last_kyc_updated|branch_id|account_created|\n",
      "+-----------+-----------+-----------+-----------+----------------+---------+---------------+\n",
      "|CUR-5421058| T09KEB6NAK|    Current|40174182.62|        9/4/2022| BR-00132|       6/9/2015|\n",
      "|BUS-2480869| N7YBSW74IO|   Business|19396837.38|      11/30/2020| BR-00001|      7/26/2001|\n",
      "|SAV-8659231| QZZPP38OPK|    Savings|88274879.06|       12/2/2022| BR-00185|      10/2/1985|\n",
      "|CUR-7107091| Q3E0OUZH11|    Current| 28079282.9|       7/21/2020| BR-00043|      1/30/2019|\n",
      "|CUR-8563313| 0U5AJPYF2R|    Current|11819827.12|       5/12/2022| BR-00108|       4/3/2001|\n",
      "|BUS-9750558| HA55ZPB9IF|   Business|21386318.46|       1/10/2019| BR-00122|       3/2/2017|\n",
      "|BUS-3956882| RYWN8BMLQQ|   Business|54923664.52|       11/7/2021| BR-00180|     12/21/2020|\n",
      "|BUS-8640431| A9V7MDXUO5|   Business|21650202.11|       8/28/2021| BR-00186|      6/19/2012|\n",
      "|CUR-9334754| 0BS7DGYMR6|    Current|30570172.14|       9/20/2020| BR-00147|     11/29/2015|\n",
      "|BUS-8239391| TE531HF5P3|   Business|12763362.72|        3/2/2020| BR-00012|      7/26/2008|\n",
      "|SAV-3832818| 0L1VKAJNG2|    Savings|32514748.24|       3/10/2020| BR-00050|       6/1/1999|\n",
      "|SAV-8122993| 71JXPYVNP6|    Savings|29732687.95|      11/30/2022| BR-00175|       3/1/2009|\n",
      "|CUR-1583105| IDDTVNWCZH|    Current| 97046060.2|       2/26/2022| BR-00033|      6/28/2001|\n",
      "|BUS-9315798| TC9NBQE2RR|   Business|48031907.45|       3/15/2021| BR-00164|       6/7/2012|\n",
      "|BUS-8116075| UY6ZXBU3FB|   Business|88397877.17|        6/7/2020| BR-00196|     10/12/1989|\n",
      "|SAV-3485413| HKYJDXB7FR|    Savings|60843580.04|       9/23/2021| BR-00094|      2/12/2006|\n",
      "|BUS-9071278| W7XPYGYGXR|   Business|78691981.17|       3/16/2022| BR-00100|       7/2/1991|\n",
      "|CUR-7595747| X95GL1GXZ8|    Current|82791761.52|       3/20/2022| BR-00111|     10/30/2011|\n",
      "|BUS-9939155| 9T4JGX8V4W|   Business|50941891.34|       1/17/2020| BR-00137|     12/16/2013|\n",
      "|BUS-7737688| BOFFQUXGQL|   Business|41805485.41|       6/22/2020| BR-00034|       8/1/2007|\n",
      "+-----------+-----------+-----------+-----------+----------------+---------+---------------+\n",
      "only showing top 20 rows\n",
      "\n"
     ]
    }
   ],
   "source": [
    "df.show()"
   ]
  },
  {
   "cell_type": "code",
   "execution_count": 284,
   "id": "24930f40-98e3-444b-abf5-f5b9e0279227",
   "metadata": {
    "tags": []
   },
   "outputs": [],
   "source": [
    "# Calculate the mode of the \"AccountType\" column\n",
    "mode_value = df.groupBy(\"AccountType\").count().sort(col(\"count\").desc()).first()[\"AccountType\"]\n",
    "\n",
    "# Fill null values with the mode\n",
    "df = df.na.fill(mode_value, subset=[\"AccountType\"])"
   ]
  },
  {
   "cell_type": "code",
   "execution_count": 285,
   "id": "80654b05-399a-4625-897e-81b178e9fef1",
   "metadata": {
    "tags": []
   },
   "outputs": [],
   "source": [
    "df= df.na.fill(0, subset=[\"Balance\"])"
   ]
  },
  {
   "cell_type": "code",
   "execution_count": 286,
   "id": "3b2eecda-9436-4134-bf44-688554675765",
   "metadata": {},
   "outputs": [
    {
     "name": "stdout",
     "output_type": "stream",
     "text": [
      "+--------+---------+-------------------+----------+\n",
      "|BranchId|Bank_Name|Branch_Registration| Bank_city|\n",
      "+--------+---------+-------------------+----------+\n",
      "|BR-00001|     HDFC|       INBR48747244|  Varanasi|\n",
      "|BR-00002|     AXIS|       INBR11941555|    Nanded|\n",
      "|BR-00003|      SBI|       INBR80849249|  Parbhani|\n",
      "|BR-00004|     HSBC|       INBR48851610|    Ratlam|\n",
      "|BR-00005|     IDFC|       INBR79215276| Karaikudi|\n",
      "|BR-00006|     HSBC|       INBR13412552|    Nanded|\n",
      "|BR-00007|     AXIS|       INBR12827025|    Ratlam|\n",
      "|BR-00008|     HDFC|       INBR28462915|    Hospet|\n",
      "|BR-00009|     HSBC|       INBR21050894|  Jamalpur|\n",
      "|BR-00010|     HSBC|       INBR67066394|  Parbhani|\n",
      "|BR-00011|     AXIS|       INBR73539041|    Tezpur|\n",
      "|BR-00012|     HSBC|       INBR68860717| Karaikudi|\n",
      "|BR-00013|     HDFC|       INBR57531262|   Nellore|\n",
      "|BR-00014|    ICICI|       INBR67941345|    Tezpur|\n",
      "|BR-00015|    ICICI|       INBR25228856|   Lucknow|\n",
      "|BR-00016|     HSBC|       INBR61059225|   Panipat|\n",
      "|BR-00017|     IDFC|       INBR28331685|   Nellore|\n",
      "|BR-00018|     AXIS|       INBR25480167|Maheshtala|\n",
      "|BR-00019|      SBI|       INBR31248977|  Varanasi|\n",
      "|BR-00020|    ICICI|       INBR51594153| Burhanpur|\n",
      "+--------+---------+-------------------+----------+\n",
      "only showing top 20 rows\n",
      "\n"
     ]
    }
   ],
   "source": [
    "# Specify the path to your CSV file\n",
    "csv_file_path = \"gs://capstondata/branches.csv\"\n",
    "\n",
    "# Read the CSV file into a DataFrame with inferred schema\n",
    "branches = spark.read.csv(csv_file_path, header=True, inferSchema=True)\n",
    "\n",
    "# Show the contents of the DataFrame\n",
    "branches.show()"
   ]
  },
  {
   "cell_type": "code",
   "execution_count": 287,
   "id": "107ca342-6776-484e-8122-8a932097a65c",
   "metadata": {
    "tags": []
   },
   "outputs": [],
   "source": [
    "df= df.join(branches, col(\"BranchId\") == col(\"branch_id\"), how=\"left\")\\\n",
    "       .select('AccountId', 'Customer_id','AccountType', 'Balance', 'last_kyc_updated', 'branch_id', 'account_created')"
   ]
  },
  {
   "cell_type": "code",
   "execution_count": 288,
   "id": "2e55b4c9-0703-4b00-88a1-77e64bb21ea8",
   "metadata": {
    "tags": []
   },
   "outputs": [
    {
     "name": "stdout",
     "output_type": "stream",
     "text": [
      "+-----------+-----------+-----------+-----------+----------------+---------+---------------+\n",
      "|  AccountId|Customer_id|AccountType|    Balance|last_kyc_updated|branch_id|account_created|\n",
      "+-----------+-----------+-----------+-----------+----------------+---------+---------------+\n",
      "|CUR-5421058| T09KEB6NAK|    Current|40174182.62|        9/4/2022| BR-00132|       6/9/2015|\n",
      "|BUS-2480869| N7YBSW74IO|   Business|19396837.38|      11/30/2020| BR-00001|      7/26/2001|\n",
      "|SAV-8659231| QZZPP38OPK|    Savings|88274879.06|       12/2/2022| BR-00185|      10/2/1985|\n",
      "|CUR-7107091| Q3E0OUZH11|    Current| 28079282.9|       7/21/2020| BR-00043|      1/30/2019|\n",
      "|CUR-8563313| 0U5AJPYF2R|    Current|11819827.12|       5/12/2022| BR-00108|       4/3/2001|\n",
      "|BUS-9750558| HA55ZPB9IF|   Business|21386318.46|       1/10/2019| BR-00122|       3/2/2017|\n",
      "|BUS-3956882| RYWN8BMLQQ|   Business|54923664.52|       11/7/2021| BR-00180|     12/21/2020|\n",
      "|BUS-8640431| A9V7MDXUO5|   Business|21650202.11|       8/28/2021| BR-00186|      6/19/2012|\n",
      "|CUR-9334754| 0BS7DGYMR6|    Current|30570172.14|       9/20/2020| BR-00147|     11/29/2015|\n",
      "|BUS-8239391| TE531HF5P3|   Business|12763362.72|        3/2/2020| BR-00012|      7/26/2008|\n",
      "|SAV-3832818| 0L1VKAJNG2|    Savings|32514748.24|       3/10/2020| BR-00050|       6/1/1999|\n",
      "|SAV-8122993| 71JXPYVNP6|    Savings|29732687.95|      11/30/2022| BR-00175|       3/1/2009|\n",
      "|CUR-1583105| IDDTVNWCZH|    Current| 97046060.2|       2/26/2022| BR-00033|      6/28/2001|\n",
      "|BUS-9315798| TC9NBQE2RR|   Business|48031907.45|       3/15/2021| BR-00164|       6/7/2012|\n",
      "|BUS-8116075| UY6ZXBU3FB|   Business|88397877.17|        6/7/2020| BR-00196|     10/12/1989|\n",
      "|SAV-3485413| HKYJDXB7FR|    Savings|60843580.04|       9/23/2021| BR-00094|      2/12/2006|\n",
      "|BUS-9071278| W7XPYGYGXR|   Business|78691981.17|       3/16/2022| BR-00100|       7/2/1991|\n",
      "|CUR-7595747| X95GL1GXZ8|    Current|82791761.52|       3/20/2022| BR-00111|     10/30/2011|\n",
      "|BUS-9939155| 9T4JGX8V4W|   Business|50941891.34|       1/17/2020| BR-00137|     12/16/2013|\n",
      "|BUS-7737688| BOFFQUXGQL|   Business|41805485.41|       6/22/2020| BR-00034|       8/1/2007|\n",
      "+-----------+-----------+-----------+-----------+----------------+---------+---------------+\n",
      "only showing top 20 rows\n",
      "\n"
     ]
    }
   ],
   "source": [
    "df.show()"
   ]
  },
  {
   "cell_type": "code",
   "execution_count": 289,
   "id": "e0f735df-0c52-490c-a895-7a46126a5e9e",
   "metadata": {
    "tags": []
   },
   "outputs": [],
   "source": [
    "df = df.withColumn(\"Balance\",round( df[\"Balance\"].cast(DecimalType(10,2)),2))"
   ]
  },
  {
   "cell_type": "code",
   "execution_count": 290,
   "id": "b46ad05a-744c-4d99-8ae4-07ea8a0ceb5f",
   "metadata": {
    "tags": []
   },
   "outputs": [
    {
     "name": "stdout",
     "output_type": "stream",
     "text": [
      "+-----------+-----------+-----------+-----------+----------------+---------+---------------+\n",
      "|  AccountId|Customer_id|AccountType|    Balance|last_kyc_updated|branch_id|account_created|\n",
      "+-----------+-----------+-----------+-----------+----------------+---------+---------------+\n",
      "|CUR-5421058| T09KEB6NAK|    Current|40174182.62|        9/4/2022| BR-00132|       6/9/2015|\n",
      "|BUS-2480869| N7YBSW74IO|   Business|19396837.38|      11/30/2020| BR-00001|      7/26/2001|\n",
      "|SAV-8659231| QZZPP38OPK|    Savings|88274879.06|       12/2/2022| BR-00185|      10/2/1985|\n",
      "|CUR-7107091| Q3E0OUZH11|    Current|28079282.90|       7/21/2020| BR-00043|      1/30/2019|\n",
      "|CUR-8563313| 0U5AJPYF2R|    Current|11819827.12|       5/12/2022| BR-00108|       4/3/2001|\n",
      "|BUS-9750558| HA55ZPB9IF|   Business|21386318.46|       1/10/2019| BR-00122|       3/2/2017|\n",
      "|BUS-3956882| RYWN8BMLQQ|   Business|54923664.52|       11/7/2021| BR-00180|     12/21/2020|\n",
      "|BUS-8640431| A9V7MDXUO5|   Business|21650202.11|       8/28/2021| BR-00186|      6/19/2012|\n",
      "|CUR-9334754| 0BS7DGYMR6|    Current|30570172.14|       9/20/2020| BR-00147|     11/29/2015|\n",
      "|BUS-8239391| TE531HF5P3|   Business|12763362.72|        3/2/2020| BR-00012|      7/26/2008|\n",
      "|SAV-3832818| 0L1VKAJNG2|    Savings|32514748.24|       3/10/2020| BR-00050|       6/1/1999|\n",
      "|SAV-8122993| 71JXPYVNP6|    Savings|29732687.95|      11/30/2022| BR-00175|       3/1/2009|\n",
      "|CUR-1583105| IDDTVNWCZH|    Current|97046060.20|       2/26/2022| BR-00033|      6/28/2001|\n",
      "|BUS-9315798| TC9NBQE2RR|   Business|48031907.45|       3/15/2021| BR-00164|       6/7/2012|\n",
      "|BUS-8116075| UY6ZXBU3FB|   Business|88397877.17|        6/7/2020| BR-00196|     10/12/1989|\n",
      "|SAV-3485413| HKYJDXB7FR|    Savings|60843580.04|       9/23/2021| BR-00094|      2/12/2006|\n",
      "|BUS-9071278| W7XPYGYGXR|   Business|78691981.17|       3/16/2022| BR-00100|       7/2/1991|\n",
      "|CUR-7595747| X95GL1GXZ8|    Current|82791761.52|       3/20/2022| BR-00111|     10/30/2011|\n",
      "|BUS-9939155| 9T4JGX8V4W|   Business|50941891.34|       1/17/2020| BR-00137|     12/16/2013|\n",
      "|BUS-7737688| BOFFQUXGQL|   Business|41805485.41|       6/22/2020| BR-00034|       8/1/2007|\n",
      "+-----------+-----------+-----------+-----------+----------------+---------+---------------+\n",
      "only showing top 20 rows\n",
      "\n"
     ]
    }
   ],
   "source": [
    "df.show()\n"
   ]
  },
  {
   "cell_type": "code",
   "execution_count": 291,
   "id": "d2e23128-7bcf-4dbf-a232-1cd093950726",
   "metadata": {
    "tags": []
   },
   "outputs": [],
   "source": [
    "df = df.withColumn(\"last_kyc_updated\",date_format(to_date(col(\"last_kyc_updated\"),\"M/d/yyyy\"),\"MM/dd/yyyy\"))"
   ]
  },
  {
   "cell_type": "code",
   "execution_count": 292,
   "id": "92060c44-9e24-4f64-982e-d6917b1944d8",
   "metadata": {
    "tags": []
   },
   "outputs": [],
   "source": [
    "df = df.withColumn(\"account_created\",date_format(to_date(col(\"account_created\"),\"M/d/yyyy\"),\"MM/dd/yyyy\"))"
   ]
  },
  {
   "cell_type": "code",
   "execution_count": 293,
   "id": "110401b6-688b-4196-bd64-512df823917e",
   "metadata": {
    "tags": []
   },
   "outputs": [
    {
     "name": "stdout",
     "output_type": "stream",
     "text": [
      "+-----------+-----------+-----------+-----------+----------------+---------+---------------+\n",
      "|  AccountId|Customer_id|AccountType|    Balance|last_kyc_updated|branch_id|account_created|\n",
      "+-----------+-----------+-----------+-----------+----------------+---------+---------------+\n",
      "|CUR-5421058| T09KEB6NAK|    Current|40174182.62|      09/04/2022| BR-00132|     06/09/2015|\n",
      "|BUS-2480869| N7YBSW74IO|   Business|19396837.38|      11/30/2020| BR-00001|     07/26/2001|\n",
      "|SAV-8659231| QZZPP38OPK|    Savings|88274879.06|      12/02/2022| BR-00185|     10/02/1985|\n",
      "|CUR-7107091| Q3E0OUZH11|    Current|28079282.90|      07/21/2020| BR-00043|     01/30/2019|\n",
      "|CUR-8563313| 0U5AJPYF2R|    Current|11819827.12|      05/12/2022| BR-00108|     04/03/2001|\n",
      "|BUS-9750558| HA55ZPB9IF|   Business|21386318.46|      01/10/2019| BR-00122|     03/02/2017|\n",
      "|BUS-3956882| RYWN8BMLQQ|   Business|54923664.52|      11/07/2021| BR-00180|     12/21/2020|\n",
      "|BUS-8640431| A9V7MDXUO5|   Business|21650202.11|      08/28/2021| BR-00186|     06/19/2012|\n",
      "|CUR-9334754| 0BS7DGYMR6|    Current|30570172.14|      09/20/2020| BR-00147|     11/29/2015|\n",
      "|BUS-8239391| TE531HF5P3|   Business|12763362.72|      03/02/2020| BR-00012|     07/26/2008|\n",
      "|SAV-3832818| 0L1VKAJNG2|    Savings|32514748.24|      03/10/2020| BR-00050|     06/01/1999|\n",
      "|SAV-8122993| 71JXPYVNP6|    Savings|29732687.95|      11/30/2022| BR-00175|     03/01/2009|\n",
      "|CUR-1583105| IDDTVNWCZH|    Current|97046060.20|      02/26/2022| BR-00033|     06/28/2001|\n",
      "|BUS-9315798| TC9NBQE2RR|   Business|48031907.45|      03/15/2021| BR-00164|     06/07/2012|\n",
      "|BUS-8116075| UY6ZXBU3FB|   Business|88397877.17|      06/07/2020| BR-00196|     10/12/1989|\n",
      "|SAV-3485413| HKYJDXB7FR|    Savings|60843580.04|      09/23/2021| BR-00094|     02/12/2006|\n",
      "|BUS-9071278| W7XPYGYGXR|   Business|78691981.17|      03/16/2022| BR-00100|     07/02/1991|\n",
      "|CUR-7595747| X95GL1GXZ8|    Current|82791761.52|      03/20/2022| BR-00111|     10/30/2011|\n",
      "|BUS-9939155| 9T4JGX8V4W|   Business|50941891.34|      01/17/2020| BR-00137|     12/16/2013|\n",
      "|BUS-7737688| BOFFQUXGQL|   Business|41805485.41|      06/22/2020| BR-00034|     08/01/2007|\n",
      "+-----------+-----------+-----------+-----------+----------------+---------+---------------+\n",
      "only showing top 20 rows\n",
      "\n"
     ]
    }
   ],
   "source": [
    "df.show()"
   ]
  },
  {
   "cell_type": "code",
   "execution_count": 294,
   "id": "37cfb53b-7c0c-4abb-9c06-a3e6b5b5bc40",
   "metadata": {
    "tags": []
   },
   "outputs": [
    {
     "name": "stdout",
     "output_type": "stream",
     "text": [
      "root\n",
      " |-- AccountId: string (nullable = true)\n",
      " |-- Customer_id: string (nullable = true)\n",
      " |-- AccountType: string (nullable = false)\n",
      " |-- Balance: decimal(11,2) (nullable = true)\n",
      " |-- last_kyc_updated: string (nullable = true)\n",
      " |-- branch_id: string (nullable = true)\n",
      " |-- account_created: string (nullable = true)\n",
      "\n"
     ]
    }
   ],
   "source": [
    "df.printSchema()"
   ]
  },
  {
   "cell_type": "code",
   "execution_count": 296,
   "id": "a020ef55-5849-4ae0-a758-54a21249e6c2",
   "metadata": {
    "tags": []
   },
   "outputs": [
    {
     "name": "stderr",
     "output_type": "stream",
     "text": [
      "                                                                                \r"
     ]
    }
   ],
   "source": [
    "# Specify the desired file name and path\n",
    "desired_file_name = \"gs://capstondata/silver_layer/Accounts.csv\"\n",
    "\n",
    "# Write the cleaned DataFrame to a CSV file with the desired file name\n",
    "df.write.csv(desired_file_name, header=True, mode=\"append\")"
   ]
  }
 ],
 "metadata": {
  "kernelspec": {
   "display_name": "PySpark (Local)",
   "language": "python",
   "name": "pyspark"
  },
  "language_info": {
   "codemirror_mode": {
    "name": "ipython",
    "version": 3
   },
   "file_extension": ".py",
   "mimetype": "text/x-python",
   "name": "python",
   "nbconvert_exporter": "python",
   "pygments_lexer": "ipython3",
   "version": "3.10.13"
  }
 },
 "nbformat": 4,
 "nbformat_minor": 5
}
